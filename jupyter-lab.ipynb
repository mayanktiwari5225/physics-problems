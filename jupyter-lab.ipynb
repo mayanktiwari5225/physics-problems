
 "cells": [
  {
   "cell_type": "code",
   "execution_count": null,
   "id": "opening-miami",
   "metadata": {},
   "outputs": [],
   "source": [
    "from sympy.interactive import printing\n",
    "printing.init_printing(use_latex=True)\n",
    "from sympy.plotting import plot\n",
    "from sympy import *\n",
    "import sympy as sp\n",
    "\n",
    "t, x, k, T = sp.symbols('t x k T_o')\n",
    "\n",
    "x = sp.Function('x')(t)\n",
    "\n",
    "#diffeq = Eq(3.6*((59/12)-4*cos(2*x))*x.diff(t, t)-14.4*sin(2*x)*((x.diff(t))**2)-4320*sin(2*x)+8404.8*sin(x)-cos((2*(2*k+1)*3.142*t)/T),0)\n",
    "diffeq = Eq(t*x.diff(t)+x,2*t)\n",
    "\n",
    "pprint(diffeq)"
   ]
  },
  {
   "cell_type": "code",
   "execution_count": null,
   "id": "sitting-premises",
   "metadata": {},
   "outputs": [],
   "source": []
  },
  {
   "cell_type": "code",
   "execution_count": null,
   "id": "special-property",
   "metadata": {},
   "outputs": [],
   "source": []
  }
 ],
 "metadata": {
  "kernelspec": {
   "display_name": "Python 3",
   "language": "python",
   "name": "python3"
  },
  "language_info": {
   "codemirror_mode": {
    "name": "ipython",
    "version": 3
   },
   "file_extension": ".py",
   "mimetype": "text/x-python",
   "name": "python",
   "nbconvert_exporter": "python",
   "pygments_lexer": "ipython3",
   "version": "3.6.9"
  }
 },
 "nbformat": 4,
 "nbformat_minor": 5
}
