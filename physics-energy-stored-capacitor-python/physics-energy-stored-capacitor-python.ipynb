{
 "cells": [
  {
   "cell_type": "markdown",
   "id": "least-second",
   "metadata": {},
   "source": [
    "### Importing necessary modules\n",
    "\n",
    "* [matplotlib](https://pypi.org/project/matplotlib/) - for plotting energy vs. time graph\n",
    "* [numpy](https://pypi.org/project/numpy/) - to generate time array"
   ]
  },
  {
   "cell_type": "code",
   "execution_count": 2,
   "id": "animated-paste",
   "metadata": {},
   "outputs": [],
   "source": [
    "#importing the matplotlib.pyplot and numpy modules\n",
    "import matplotlib.pyplot as plt\n",
    "import numpy as np"
   ]
  },
  {
   "cell_type": "markdown",
   "id": "understanding-aspect",
   "metadata": {},
   "source": [
    "### Generating the time array using ``numpy``\n",
    "\n",
    "An array containing times values with 0.1 microsecond interval is generated using numpy"
   ]
  },
  {
   "cell_type": "code",
   "execution_count": 3,
   "id": "unavailable-vector",
   "metadata": {},
   "outputs": [],
   "source": [
    "#----------------------------GIVEN---------------------------------------#\n",
    "#generating a time array with step of 0.1 microseconds\n",
    "time = np.arange(start=0, stop=20, step=0.1)      #in microseconds\n",
    "#capacitance of capacitor\n",
    "C = 0.2                                           #in microfarad"
   ]
  },
  {
   "cell_type": "markdown",
   "id": "strong-killing",
   "metadata": {},
   "source": [
    "### Calculating energy stored in capacitor at various times\n",
    "\n",
    "The energy stored in capacitor at a given time will be a function of charge stored in capacitor at the given time.\n",
    "Energy stored in capacitor is calculated at time intervals of 0.1 microseconds"
   ]
  },
  {
   "cell_type": "code",
   "execution_count": 4,
   "id": "handmade-bermuda",
   "metadata": {},
   "outputs": [],
   "source": [
    "#---------------------------SOLUTION--------------------------------------#\n",
    "\n",
    "#empty array to store the corresponding energy-stored-in-capacitor values\n",
    "energy = []\n",
    "\n",
    "#converting given values to SI units\n",
    "for t in range(len(time)):\n",
    "    time[t] = time[t]/1000000        #in seconds\n",
    "C = C/1000000                        #in farad\n",
    "#Slope of current_vs_time line,\n",
    "#m = 0.005 in milliampere/microseconds\n",
    "#m = 0.005x(1e-03ampere/1e-06second)\n",
    "#m = 0.005x1000 ampere/second\n",
    "m = 5 #in ampere/second\n",
    "\n",
    "#calculating the energy stored in capacitor\n",
    "for t in range(len(time)):\n",
    "    current = m*time[t]          #current = m x time\n",
    "    Q = current*time[t]          #charge on capacitor Q = current x time\n",
    "    energy.append((Q**2)/(2*C))  #energy stored in capacitor E = (Q^2)/2C"
   ]
  },
  {
   "cell_type": "markdown",
   "id": "interpreted-greene",
   "metadata": {},
   "source": [
    "### Plotting energy stored in capacitor vs. time graph using matplotlib"
   ]
  },
  {
   "cell_type": "code",
   "execution_count": 5,
   "id": "monetary-black",
   "metadata": {},
   "outputs": [
    {
     "data": {
      "image/png": "[encoded data removed]",
      "text/plain": [
       "<Figure size 432x288 with 1 Axes>"
      ]
     },
     "metadata": {
      "needs_background": "light"
     },
     "output_type": "display_data"
    }
   ],
   "source": [
    "# plotting the points  \n",
    "plt.plot(time, energy) \n",
    "  \n",
    "# naming the x axis \n",
    "plt.xlabel('Time [in seconds]') \n",
    "# naming the y axis \n",
    "plt.ylabel('Energy [in joule]') \n",
    "  \n",
    "# giving title to graph \n",
    "plt.title('Energy Stored In Capacitor vs Time') \n",
    "  \n",
    "# function to show the plot \n",
    "plt.show()"
   ]
  }
 ],
 "metadata": {
  "kernelspec": {
   "display_name": "Python 3",
   "language": "python",
   "name": "python3"
  },
  "language_info": {
   "codemirror_mode": {
    "name": "ipython",
    "version": 3
   },
   "file_extension": ".py",
   "mimetype": "text/x-python",
   "name": "python",
   "nbconvert_exporter": "python",
   "pygments_lexer": "ipython3",
   "version": "3.6.9"
  }
 },
 "nbformat": 4,
 "nbformat_minor": 5
}
