{
  "cells": [
    {
      "cell_type": "markdown",
      "metadata": {
        "id": "view-in-github",
        "colab_type": "text"
      },
      "source": [
        "<a href=\"https://colab.research.google.com/github/python4phys1cs/physics-problems/blob/main/octave-solving-systems-of-equation.ipynb\" target=\"_parent\"><img src=\"https://colab.research.google.com/assets/colab-badge.svg\" alt=\"Open In Colab\"/></a>"
      ]
    },
    {
      "cell_type": "markdown",
      "metadata": {
        "id": "xRWF5bsrNCc-"
      },
      "source": [
        "#Installing Octave and necessary dependencies"
      ],
      "id": "xRWF5bsrNCc-"
    },
    {
      "cell_type": "code",
      "metadata": {
        "id": "VOW107M3adrq"
      },
      "source": [
        "!apt-get update"
      ],
      "execution_count": null,
      "outputs": [],
      "id": "VOW107M3adrq"
    },
    {
      "cell_type": "code",
      "metadata": {
        "id": "ldTapcPwudwT"
      },
      "source": [
        "!apt install octave"
      ],
      "execution_count": null,
      "outputs": [],
      "id": "ldTapcPwudwT"
    },
    {
      "cell_type": "markdown",
      "source": [
        "Installing octave-io and octave-symbolic packages"
      ],
      "metadata": {
        "id": "Wxok8NO6YMS4"
      },
      "id": "Wxok8NO6YMS4"
    },
    {
      "cell_type": "code",
      "metadata": {
        "id": "0JOh0B7s3Ez5"
      },
      "source": [
        "!apt install octave-io octave-symbolic"
      ],
      "execution_count": null,
      "outputs": [],
      "id": "0JOh0B7s3Ez5"
    },
    {
      "cell_type": "markdown",
      "source": [
        "Due to bug there are errors when using latest version of sympy. Hence, installing the compatible version 1.5.0"
      ],
      "metadata": {
        "id": "3WgvzpoWYYi1"
      },
      "id": "3WgvzpoWYYi1"
    },
    {
      "cell_type": "code",
      "metadata": {
        "id": "5Y8vmAbruiMt"
      },
      "source": [
        "!pip uninstall sympy -y"
      ],
      "execution_count": null,
      "outputs": [],
      "id": "5Y8vmAbruiMt"
    },
    {
      "cell_type": "code",
      "metadata": {
        "id": "WkqgyilWvnab"
      },
      "source": [
        "!pip install sympy==1.5.0"
      ],
      "execution_count": null,
      "outputs": [],
      "id": "WkqgyilWvnab"
    },
    {
      "cell_type": "markdown",
      "source": [
        "Installing oct2py to integrate Octave with Google Colaboratory\\\n",
        "This will provide %%octave magic to execute the commands inline"
      ],
      "metadata": {
        "id": "dgPw2n4VYnou"
      },
      "id": "dgPw2n4VYnou"
    },
    {
      "cell_type": "code",
      "metadata": {
        "id": "tVoy0t_xaCxg"
      },
      "source": [
        "!pip install oct2py"
      ],
      "execution_count": null,
      "outputs": [],
      "id": "tVoy0t_xaCxg"
    },
    {
      "cell_type": "markdown",
      "source": [
        "Loading the oct2py extension"
      ],
      "metadata": {
        "id": "UNEtkK1yY7BS"
      },
      "id": "UNEtkK1yY7BS"
    },
    {
      "cell_type": "code",
      "metadata": {
        "id": "5hUZdIc_vxqz",
        "colab": {
          "base_uri": "https://localhost:8080/"
        },
        "outputId": "c7b80d00-be98-49ef-f7ea-294d6dbad078"
      },
      "source": [
        "%load_ext oct2py.ipython"
      ],
      "execution_count": null,
      "outputs": [
        {
          "output_type": "stream",
          "name": "stdout",
          "text": [
            "The oct2py.ipython extension is already loaded. To reload it, use:\n",
            "  %reload_ext oct2py.ipython\n"
          ]
        }
      ],
      "id": "5hUZdIc_vxqz"
    },
    {
      "cell_type": "markdown",
      "source": [
        "Loading the symbolic package to solve the systems of equations symbolically"
      ],
      "metadata": {
        "id": "Zjk-7dL1ZACV"
      },
      "id": "Zjk-7dL1ZACV"
    },
    {
      "cell_type": "code",
      "metadata": {
        "id": "HXDzjMPvv772"
      },
      "source": [
        "%%octave\n",
        "pkg load symbolic"
      ],
      "execution_count": null,
      "outputs": [],
      "id": "HXDzjMPvv772"
    },
    {
      "cell_type": "markdown",
      "source": [
        "Given system of equation are\\\n",
        "$$ 5 I_1 + 5 I_2 - 9 I_3 = 0 $$\\\n",
        "$$ 3 I_2 + 4 I_3 - 10 = 0 $$\\\n",
        "$$ 3 I_1 + 4 I_3 -12 = 0 $$"
      ],
      "metadata": {
        "id": "C0Du5QklZLjC"
      },
      "id": "C0Du5QklZLjC"
    },
    {
      "cell_type": "code",
      "execution_count": null,
      "id": "advance-border",
      "metadata": {
        "scrolled": true,
        "id": "advance-border"
      },
      "outputs": [],
      "source": [
        "%declaring the system of equations\n",
        "syms I1 I2 I3\n",
        "eqn1 = 5*I1 + 5*I2 - 9*I3 == 0;\n",
        "eqn2 = 3*I2 + 4*I3 - 10 == 0;\n",
        "eqn3 = 3*I1 + 4*I3 - 12 == 0;"
      ]
    },
    {
      "cell_type": "markdown",
      "source": [
        "Solving the system of equation using [solve](https://octave.sourceforge.io/symbolic/function/@sym/solve.html)\\\n",
        "***sol = solve (eqns, vars)***"
      ],
      "metadata": {
        "id": "5uwwFdC1Zmk9"
      },
      "id": "5uwwFdC1Zmk9"
    },
    {
      "cell_type": "code",
      "execution_count": null,
      "id": "interracial-russell",
      "metadata": {
        "id": "interracial-russell",
        "outputId": "6b6feb18-e183-4897-8337-2fc6d26ec350"
      },
      "outputs": [
        {
          "name": "stdout",
          "output_type": "stream",
          "text": [
            "I1sol = (sym)\n",
            "\n",
            "  364\n",
            "  ───\n",
            "  201\n",
            "\n",
            "I2sol = (sym)\n",
            "\n",
            "  230\n",
            "  ───\n",
            "  201\n",
            "\n",
            "I3sol = (sym)\n",
            "\n",
            "  110\n",
            "  ───\n",
            "   67\n",
            "\n"
          ]
        }
      ],
      "source": [
        "%solving the system of equations using solve\n",
        "%the inputs of solve are a vector of equations and a vector of variables\n",
        "sol = solve([eqn1, eqn2, eqn3], [I1, I2, I3]);\n",
        "I1sol = sol.I1\n",
        "I2sol = sol.I2\n",
        "I3sol = sol.I3"
      ]
    }
  ],
  "metadata": {
    "kernelspec": {
      "display_name": "Octave",
      "language": "octave",
      "name": "octave"
    },
    "language_info": {
      "file_extension": ".m",
      "help_links": [
        {
          "text": "GNU Octave",
          "url": "https://www.gnu.org/software/octave/support.html"
        },
        {
          "text": "Octave Kernel",
          "url": "https://github.com/Calysto/octave_kernel"
        },
        {
          "text": "MetaKernel Magics",
          "url": "https://metakernel.readthedocs.io/en/latest/source/README.html"
        }
      ],
      "mimetype": "text/x-octave",
      "name": "octave",
      "version": "4.2.2"
    },
    "colab": {
      "name": "octave-solving-systems-of-equation.ipynb",
      "provenance": [],
      "include_colab_link": true
    }
  },
  "nbformat": 4,
  "nbformat_minor": 5
}