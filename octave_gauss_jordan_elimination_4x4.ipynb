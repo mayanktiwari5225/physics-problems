{
  "cells": [
    {
      "cell_type": "markdown",
      "metadata": {
        "id": "view-in-github",
        "colab_type": "text"
      },
      "source": [
        "<a href=\"https://colab.research.google.com/github/python4phys1cs/physics-problems/blob/main/octave_gauss_jordan_elimination_4x4.ipynb\" target=\"_parent\"><img src=\"https://colab.research.google.com/assets/colab-badge.svg\" alt=\"Open In Colab\"/></a>"
      ]
    },
    {
      "cell_type": "markdown",
      "source": [
        "#Solving a system of 4x4 equations by Gauss-Jordan Elimination"
      ],
      "metadata": {
        "id": "II4_xmd3h2eF"
      },
      "id": "II4_xmd3h2eF"
    },
    {
      "cell_type": "markdown",
      "id": "freelance-airplane",
      "metadata": {
        "id": "freelance-airplane"
      },
      "source": [
        "Consider a system of 4x4 equations\n",
        "$$ a_{11}w + a_{12}x + a_{13}y + a_{14}z = b_1 $$\n",
        "$$ a_{21}w + a_{22}x + a_{23}y + a_{24}z = b_2 $$\n",
        "$$ a_{31}w + a_{32}x + a_{33}y + a_{34}z = b_3 $$\n",
        "$$ a_{41}w + a_{42}x + a_{43}y + a_{44}z = b_4 $$"
      ]
    },
    {
      "cell_type": "markdown",
      "id": "solved-permit",
      "metadata": {
        "id": "solved-permit"
      },
      "source": [
        "Writing them in matrix form \n",
        "$$ AX = B $$\n",
        "\n",
        "where\n",
        "$$\n",
        "A=\\begin{bmatrix} \n",
        "  a_{11} & a_{12} & a_{13} & a_{14}\\\\\n",
        "  a_{21} & a_{22} & a_{23} & a_{24}\\\\ \n",
        "  a_{31} & a_{32} & a_{33} & a_{34}\\\\\n",
        "  a_{41} & a_{42} & a_{43} & a_{44} \n",
        "  \\end{bmatrix}\n",
        ",\n",
        "B=\\begin{bmatrix} \n",
        "   b_1\\\\\n",
        "   b_2\\\\\n",
        "   b_3\\\\\n",
        "   b_4\n",
        "   \\end{bmatrix} \n",
        "\\text{ and } \n",
        "X=\\begin{bmatrix} \n",
        "  w\\\\\n",
        "  x\\\\\n",
        "  y\\\\\n",
        "  z\n",
        "  \\end{bmatrix}\n",
        "$$"
      ]
    },
    {
      "cell_type": "markdown",
      "id": "fatal-anthropology",
      "metadata": {
        "id": "fatal-anthropology"
      },
      "source": [
        "Creating an augumented matrix\n",
        "$$\n",
        "A_g=\\begin{bmatrix}\n",
        "  a_{11} & a_{12} & a_{13} & a_{14} & b_1\\\\\n",
        "  a_{21} & a_{22} & a_{23} & a_{24} & b_2\\\\\n",
        "  a_{31} & a_{32} & a_{33} & a_{34} & b_3\\\\\n",
        "  a_{41} & a_{42} & a_{43} & a_{44} & b_4\n",
        "  \\end{bmatrix}\n",
        "$$"
      ]
    },
    {
      "cell_type": "markdown",
      "id": "medium-convergence",
      "metadata": {
        "id": "medium-convergence"
      },
      "source": [
        "For Gauss-Jordan elimination\n",
        "\n",
        "all elements with $ i = j $    i.e. $a_{11}$, $a_{22},... $ need to be made equal to one  \n",
        "and elements with $ i \\neq j $   i.e $ a_{12}, a_{21}, a_{32},... $ need to be eliminated\n",
        "\n",
        "This results the augumented matrix in following form\n",
        "$$\n",
        "A_g=\\begin{bmatrix}\n",
        "  1 & 0 & 0 & 0 & m_1\\\\\n",
        "  0 & 1 & 0 & 0 & m_2\\\\\n",
        "  0 & 0 & 1 & 0 & m_3\\\\\n",
        "  0 & 0 & 0 & 1 & m_4\\\\\n",
        "  \\end{bmatrix}\n",
        "$$  \n",
        "\n",
        "where $ w=m_1;\\ x=m_2;\\ y=m_3;\\ z=m_4 $ are the required solutions."
      ]
    },
    {
      "cell_type": "markdown",
      "id": "hazardous-jonathan",
      "metadata": {
        "id": "hazardous-jonathan"
      },
      "source": [
        "To make $ a_{11} $ equal to one make following transformation $ R_1 \\rightarrow \\frac{R_1}{a_{11}} $  this gives\n",
        "$$ A_g=\\begin{bmatrix}\n",
        "  1 & \\frac{a_{12}}{a_{11}} & \\frac{a_{13}}{a_{11}} & \\frac{a_{14}}{a_{11}} & \\frac{b_1}{a_{11}}\\\\\n",
        "  a_{21} & a_{22} & a_{23} & a_{24} & b_2\\\\\n",
        "  a_{31} & a_{32} & a_{33} & a_{34} & b_3\\\\\n",
        "  a_{41} & a_{42} & a_{43} & a_{44} & b_4\n",
        "  \\end{bmatrix} $$"
      ]
    },
    {
      "cell_type": "markdown",
      "source": [
        "To eliminate $ a_{21} $ one makes following transformation $ R_2 \\rightarrow R_2 - a_{21} \\times R_1 $ this gives\n",
        "$$ A_g=\\begin{bmatrix}\n",
        "  1 & \\frac{a_{12}}{a_{11}} & \\frac{a_{13}}{a_{11}} & \\frac{a_{14}}{a_{11}} & \\frac{b_1}{a_{11}}\\\\\n",
        "  0 & a_{22} - a_{21}\\left( \\frac{a_{12}}{a_{11}} \\right) & a_{23} - a_{21}\\left( \\frac{a_{13}}{a_{11}} \\right) & a_{24} - a_{21}\\left( \\frac{a_{14}}{a_{11}} \\right) & b_2 - a_{21}\\left( \\frac{b_1}{a_{11}} \\right)\\\\\n",
        "  a_{31} & a_{32} & a_{33} & a_{34} & b_3\\\\\n",
        "  a_{41} & a_{42} & a_{43} & a_{44} & b_4\n",
        "  \\end{bmatrix} $$"
      ],
      "metadata": {
        "id": "DRrFlgNjdbOg"
      },
      "id": "DRrFlgNjdbOg"
    },
    {
      "cell_type": "markdown",
      "source": [
        "Similarily ${a_{31}}$ and $ a_{41} $ can be eliminated by using transformations $ R_3 \\rightarrow R_3 - a_{31} \\times R_1 $ and $ R_4 \\rightarrow R_4 - a_{41} \\times R_1 $ respectively  \n",
        "\n",
        "$$ A_g=\\begin{bmatrix}\n",
        "  1 & \\frac{a_{12}}{a_{11}} & \\frac{a_{13}}{a_{11}} & \\frac{a_{14}}{a_{11}} & \\frac{b_1}{a_{11}}\\\\\n",
        "  0 & a_{22} - a_{21}\\left( \\frac{a_{12}}{a_{11}} \\right) & a_{23} - a_{21}\\left( \\frac{a_{13}}{a_{11}} \\right) & a_{24} - a_{21}\\left( \\frac{a_{14}}{a_{11}} \\right) & b_2 - a_{21}\\left( \\frac{b_1}{a_{11}} \\right)\\\\\n",
        "  0 & a_{32} - a_{31}\\left( \\frac{a_{12}}{a_{11}} \\right) & a_{33} - a_{31}\\left( \\frac{a_{12}}{a_{11}} \\right) & a_{34} - a_{31}\\left( \\frac{a_{12}}{a_{11}} \\right) & b_3 - a_{31}\\left( \\frac{b_1}{a_{11}} \\right)\\\\\n",
        "  0 & a_{42} - a_{41}\\left( \\frac{a_{12}}{a_{11}} \\right) & a_{43} - a_{41}\\left( \\frac{a_{13}}{a_{11}} \\right) & a_{44} - a_{41} \\left( \\frac{a_{14}}{a_{11}} \\right) & b_4 - a_{41}\\left( \\frac{b_1}{a_{11}} \\right)\n",
        "  \\end{bmatrix} $$"
      ],
      "metadata": {
        "id": "0D2yP77gdfBO"
      },
      "id": "0D2yP77gdfBO"
    },
    {
      "cell_type": "markdown",
      "source": [
        "This procedure could be looped throughout the matrix to get the required form\n",
        "\n",
        "Here the term that needs to be multipled for elimination, say $ a_{21} $ for second row, is called as key\n",
        "\n",
        "In the program we define the key as \n",
        "$$ key = \\frac{a_{ji}}{a_{ii}} \\hspace{0.5cm} for \\ i \\neq j $$\n",
        "i.e. for second row the key is \n",
        "$$ key = \\frac{a_{21}}{a_{11}} $$\n",
        "\n",
        "This is for more generalized case when $ a_{ii} \\neq 1 $ and it works in all cases\n",
        "\n",
        "This will be used when eliminating $ a_{12} $ or $ a_{23} $ and similar elements (elements above diagonal)"
      ],
      "metadata": {
        "id": "F3CDR0g7g0Mx"
      },
      "id": "F3CDR0g7g0Mx"
    },
    {
      "cell_type": "markdown",
      "metadata": {
        "id": "xRWF5bsrNCc-"
      },
      "source": [
        "#Installing Octave and necessary dependencies"
      ],
      "id": "xRWF5bsrNCc-"
    },
    {
      "cell_type": "code",
      "metadata": {
        "id": "VOW107M3adrq"
      },
      "source": [
        "!apt-get update"
      ],
      "execution_count": null,
      "outputs": [],
      "id": "VOW107M3adrq"
    },
    {
      "cell_type": "code",
      "metadata": {
        "id": "ldTapcPwudwT"
      },
      "source": [
        "!apt install octave"
      ],
      "execution_count": null,
      "outputs": [],
      "id": "ldTapcPwudwT"
    },
    {
      "cell_type": "markdown",
      "source": [
        "Installing [octave-io](https://octave.sourceforge.io/io/overview.html) and [octave-symbolic](https://octave.sourceforge.io/symbolic/overview.html) packages"
      ],
      "metadata": {
        "id": "Wxok8NO6YMS4"
      },
      "id": "Wxok8NO6YMS4"
    },
    {
      "cell_type": "code",
      "metadata": {
        "id": "0JOh0B7s3Ez5"
      },
      "source": [
        "!apt install octave-io octave-symbolic"
      ],
      "execution_count": null,
      "outputs": [],
      "id": "0JOh0B7s3Ez5"
    },
    {
      "cell_type": "markdown",
      "source": [
        "Due to [bug](https://github.com/cbm755/octsympy/issues/1023) there are errors when using latest version of `sympy`. Hence, installing the compatible version 1.5.0"
      ],
      "metadata": {
        "id": "3WgvzpoWYYi1"
      },
      "id": "3WgvzpoWYYi1"
    },
    {
      "cell_type": "code",
      "metadata": {
        "id": "5Y8vmAbruiMt"
      },
      "source": [
        "!pip uninstall sympy -y"
      ],
      "execution_count": null,
      "outputs": [],
      "id": "5Y8vmAbruiMt"
    },
    {
      "cell_type": "code",
      "metadata": {
        "id": "WkqgyilWvnab"
      },
      "source": [
        "!pip install sympy==1.5.0"
      ],
      "execution_count": null,
      "outputs": [],
      "id": "WkqgyilWvnab"
    },
    {
      "cell_type": "markdown",
      "source": [
        "Installing [oct2py](https://github.com/blink1073/oct2py) to integrate Octave with Google Colaboratory\\\n",
        "This will provide `%%octave` magic to execute the commands inline"
      ],
      "metadata": {
        "id": "dgPw2n4VYnou"
      },
      "id": "dgPw2n4VYnou"
    },
    {
      "cell_type": "code",
      "metadata": {
        "id": "tVoy0t_xaCxg"
      },
      "source": [
        "!pip install oct2py"
      ],
      "execution_count": null,
      "outputs": [],
      "id": "tVoy0t_xaCxg"
    },
    {
      "cell_type": "markdown",
      "source": [
        "Loading the oct2py extension"
      ],
      "metadata": {
        "id": "UNEtkK1yY7BS"
      },
      "id": "UNEtkK1yY7BS"
    },
    {
      "cell_type": "code",
      "metadata": {
        "id": "5hUZdIc_vxqz"
      },
      "source": [
        "%load_ext oct2py.ipython"
      ],
      "execution_count": 7,
      "outputs": [],
      "id": "5hUZdIc_vxqz"
    },
    {
      "cell_type": "markdown",
      "source": [
        "Loading the symbolic package to solve the systems of equations symbolically"
      ],
      "metadata": {
        "id": "Zjk-7dL1ZACV"
      },
      "id": "Zjk-7dL1ZACV"
    },
    {
      "cell_type": "code",
      "execution_count": 8,
      "id": "norwegian-wages",
      "metadata": {
        "id": "norwegian-wages"
      },
      "outputs": [],
      "source": [
        "%%octave\n",
        "pkg load symbolic"
      ]
    },
    {
      "cell_type": "markdown",
      "source": [
        "Given system of equation are  \n",
        "$$ 17 I_a + 5 I_b - 10 I_c = 50 $$\n",
        "$$ 5 I_a + 16 I_b - I_d = -9 $$\n",
        "$$ -10 I_a + 25 I_c + 3 I_d = 30 $$\n",
        "$$ -I_b + 3 I_c + 4 I_d = 19 $$"
      ],
      "metadata": {
        "id": "C0Du5QklZLjC"
      },
      "id": "C0Du5QklZLjC"
    },
    {
      "cell_type": "code",
      "execution_count": 9,
      "id": "second-proxy",
      "metadata": {
        "id": "second-proxy",
        "outputId": "2ba41e11-c7f8-449b-9262-374e8f8407d7",
        "colab": {
          "base_uri": "https://localhost:8080/",
          "height": 434
        }
      },
      "outputs": [
        {
          "output_type": "display_data",
          "data": {
            "text/plain": [
              "OctSymPy v2.6.0: this is free software without warranty, see source."
            ]
          },
          "metadata": {}
        },
        {
          "output_type": "display_data",
          "data": {
            "text/plain": [
              "Initializing communication with SymPy using a popen2() pipe."
            ]
          },
          "metadata": {}
        },
        {
          "output_type": "display_data",
          "data": {
            "text/plain": [
              "Some output from the Python subprocess (pid 6198) might appear next."
            ]
          },
          "metadata": {}
        },
        {
          "output_type": "display_data",
          "data": {
            "text/plain": [
              "Python 3.7.13 (default, Apr 24 2022, 01:04:09)"
            ]
          },
          "metadata": {}
        },
        {
          "output_type": "display_data",
          "data": {
            "text/plain": [
              "[GCC 7.5.0] on linux"
            ]
          },
          "metadata": {}
        },
        {
          "output_type": "display_data",
          "data": {
            "text/plain": [
              "Type \"help\", \"copyright\", \"credits\" or \"license\" for more information."
            ]
          },
          "metadata": {}
        },
        {
          "output_type": "display_data",
          "data": {
            "text/plain": [
              ">>> >>>"
            ]
          },
          "metadata": {}
        },
        {
          "output_type": "display_data",
          "data": {
            "text/plain": [
              "OctSymPy: Communication established.  SymPy v1.5."
            ]
          },
          "metadata": {}
        },
        {
          "output_type": "display_data",
          "data": {
            "text/plain": [
              "A = (sym 4×4 matrix)"
            ]
          },
          "metadata": {}
        },
        {
          "output_type": "display_data",
          "data": {
            "text/plain": [
              ""
            ]
          },
          "metadata": {}
        },
        {
          "output_type": "display_data",
          "data": {
            "text/plain": [
              "  ⎡17   5   -10  0 ⎤"
            ]
          },
          "metadata": {}
        },
        {
          "output_type": "display_data",
          "data": {
            "text/plain": [
              "  ⎢                ⎥"
            ]
          },
          "metadata": {}
        },
        {
          "output_type": "display_data",
          "data": {
            "text/plain": [
              "  ⎢ 5   16   0   -1⎥"
            ]
          },
          "metadata": {}
        },
        {
          "output_type": "display_data",
          "data": {
            "text/plain": [
              "  ⎢                ⎥"
            ]
          },
          "metadata": {}
        },
        {
          "output_type": "display_data",
          "data": {
            "text/plain": [
              "  ⎢-10  0   25   3 ⎥"
            ]
          },
          "metadata": {}
        },
        {
          "output_type": "display_data",
          "data": {
            "text/plain": [
              "  ⎢                ⎥"
            ]
          },
          "metadata": {}
        },
        {
          "output_type": "display_data",
          "data": {
            "text/plain": [
              "  ⎣ 0   -1   3   4 ⎦"
            ]
          },
          "metadata": {}
        },
        {
          "output_type": "display_data",
          "data": {
            "text/plain": [
              ""
            ]
          },
          "metadata": {}
        },
        {
          "output_type": "display_data",
          "data": {
            "text/plain": [
              "B = (sym 4×1 matrix)"
            ]
          },
          "metadata": {}
        },
        {
          "output_type": "display_data",
          "data": {
            "text/plain": [
              ""
            ]
          },
          "metadata": {}
        },
        {
          "output_type": "display_data",
          "data": {
            "text/plain": [
              "  ⎡50⎤"
            ]
          },
          "metadata": {}
        },
        {
          "output_type": "display_data",
          "data": {
            "text/plain": [
              "  ⎢  ⎥"
            ]
          },
          "metadata": {}
        },
        {
          "output_type": "display_data",
          "data": {
            "text/plain": [
              "  ⎢-9⎥"
            ]
          },
          "metadata": {}
        },
        {
          "output_type": "display_data",
          "data": {
            "text/plain": [
              "  ⎢  ⎥"
            ]
          },
          "metadata": {}
        },
        {
          "output_type": "display_data",
          "data": {
            "text/plain": [
              "  ⎢30⎥"
            ]
          },
          "metadata": {}
        },
        {
          "output_type": "display_data",
          "data": {
            "text/plain": [
              "  ⎢  ⎥"
            ]
          },
          "metadata": {}
        },
        {
          "output_type": "display_data",
          "data": {
            "text/plain": [
              "  ⎣19⎦"
            ]
          },
          "metadata": {}
        },
        {
          "output_type": "display_data",
          "data": {
            "text/plain": [
              ""
            ]
          },
          "metadata": {}
        }
      ],
      "source": [
        "%%octave\n",
        "%solving system of equations by Gauss-Jordan Method\n",
        "% 17*I_a + 5*I_b - 10*I_c = 50\n",
        "% 5*I_a + 16*I_b - I_d = -9\n",
        "% -10*I_a + 25*I_c + 3*I_d = 30\n",
        "% -I_b + 3*I_c + 4*I_d = 19\n",
        "\n",
        "syms I_a I_b I_c I_d\n",
        "\n",
        "%defining the given equations\n",
        "eqn1 = 17*I_a + 5*I_b - 10*I_c == 50;\n",
        "eqn2 = 5*I_a + 16*I_b - I_d == -9;\n",
        "eqn3 = -10*I_a + 25*I_c + 3*I_d == 30;\n",
        "eqn4 = - I_b + 3*I_c + 4*I_d == 19;\n",
        "\n",
        "%converting the given equations to matrix form\n",
        "[A,B] = equationsToMatrix([eqn1, eqn2, eqn3, eqn4], [I_a, I_b, I_c, I_d])"
      ]
    },
    {
      "cell_type": "code",
      "execution_count": 10,
      "id": "curious-barrier",
      "metadata": {
        "id": "curious-barrier",
        "outputId": "5d728273-444b-4a4f-96ee-86835e1e5ecc",
        "colab": {
          "base_uri": "https://localhost:8080/",
          "height": 156
        }
      },
      "outputs": [
        {
          "output_type": "display_data",
          "data": {
            "text/plain": [
              "Ag = (sym 4×5 matrix)"
            ]
          },
          "metadata": {}
        },
        {
          "output_type": "display_data",
          "data": {
            "text/plain": [
              ""
            ]
          },
          "metadata": {}
        },
        {
          "output_type": "display_data",
          "data": {
            "text/plain": [
              "  ⎡17   5   -10  0   50⎤"
            ]
          },
          "metadata": {}
        },
        {
          "output_type": "display_data",
          "data": {
            "text/plain": [
              "  ⎢                    ⎥"
            ]
          },
          "metadata": {}
        },
        {
          "output_type": "display_data",
          "data": {
            "text/plain": [
              "  ⎢ 5   16   0   -1  -9⎥"
            ]
          },
          "metadata": {}
        },
        {
          "output_type": "display_data",
          "data": {
            "text/plain": [
              "  ⎢                    ⎥"
            ]
          },
          "metadata": {}
        },
        {
          "output_type": "display_data",
          "data": {
            "text/plain": [
              "  ⎢-10  0   25   3   30⎥"
            ]
          },
          "metadata": {}
        },
        {
          "output_type": "display_data",
          "data": {
            "text/plain": [
              "  ⎢                    ⎥"
            ]
          },
          "metadata": {}
        },
        {
          "output_type": "display_data",
          "data": {
            "text/plain": [
              "  ⎣ 0   -1   3   4   19⎦"
            ]
          },
          "metadata": {}
        },
        {
          "output_type": "display_data",
          "data": {
            "text/plain": [
              ""
            ]
          },
          "metadata": {}
        }
      ],
      "source": [
        "%%octave\n",
        "%defining the augumented matrix Ag = [A|B]\n",
        "Ag = [A, B]"
      ]
    },
    {
      "cell_type": "code",
      "execution_count": 11,
      "id": "accompanied-religious",
      "metadata": {
        "id": "accompanied-religious",
        "outputId": "6c2bf247-0865-4d00-e2d1-83c6255f288f",
        "colab": {
          "base_uri": "https://localhost:8080/",
          "height": 277
        }
      },
      "outputs": [
        {
          "output_type": "display_data",
          "data": {
            "text/plain": [
              "  ⎡ 41885 ⎤"
            ]
          },
          "metadata": {}
        },
        {
          "output_type": "display_data",
          "data": {
            "text/plain": [
              "  ⎢ ───── ⎥"
            ]
          },
          "metadata": {}
        },
        {
          "output_type": "display_data",
          "data": {
            "text/plain": [
              "  ⎢  7726 ⎥"
            ]
          },
          "metadata": {}
        },
        {
          "output_type": "display_data",
          "data": {
            "text/plain": [
              "  ⎢       ⎥"
            ]
          },
          "metadata": {}
        },
        {
          "output_type": "display_data",
          "data": {
            "text/plain": [
              "  ⎢-16539 ⎥"
            ]
          },
          "metadata": {}
        },
        {
          "output_type": "display_data",
          "data": {
            "text/plain": [
              "  ⎢───────⎥"
            ]
          },
          "metadata": {}
        },
        {
          "output_type": "display_data",
          "data": {
            "text/plain": [
              "  ⎢  7726 ⎥"
            ]
          },
          "metadata": {}
        },
        {
          "output_type": "display_data",
          "data": {
            "text/plain": [
              "  ⎢       ⎥"
            ]
          },
          "metadata": {}
        },
        {
          "output_type": "display_data",
          "data": {
            "text/plain": [
              "  ⎢ 24305 ⎥"
            ]
          },
          "metadata": {}
        },
        {
          "output_type": "display_data",
          "data": {
            "text/plain": [
              "  ⎢ ───── ⎥"
            ]
          },
          "metadata": {}
        },
        {
          "output_type": "display_data",
          "data": {
            "text/plain": [
              "  ⎢  7726 ⎥"
            ]
          },
          "metadata": {}
        },
        {
          "output_type": "display_data",
          "data": {
            "text/plain": [
              "  ⎢       ⎥"
            ]
          },
          "metadata": {}
        },
        {
          "output_type": "display_data",
          "data": {
            "text/plain": [
              "  ⎢ 14335 ⎥"
            ]
          },
          "metadata": {}
        },
        {
          "output_type": "display_data",
          "data": {
            "text/plain": [
              "  ⎢ ───── ⎥"
            ]
          },
          "metadata": {}
        },
        {
          "output_type": "display_data",
          "data": {
            "text/plain": [
              "  ⎣  7726 ⎦"
            ]
          },
          "metadata": {}
        }
      ],
      "source": [
        "%%octave\n",
        "%creating a for loop to move through rows\n",
        "for i=1:size(Ag, 1)\n",
        "    %dividing the complete row by element in i=j position\n",
        "    Ag(i,:) = Ag(i,:)./Ag(i,i);\n",
        "    \n",
        "    %creating a for loop to move through columns\n",
        "    for j = 1:size(Ag, 1)\n",
        "        %selecting only those elements for which j != i\n",
        "        if j~=i\n",
        "            %defining the key element required for elimination\n",
        "            key1 = Ag(j, i)./Ag(i,i);\n",
        "            %eliminating the element by row transformation\n",
        "            Ag(j,:) = Ag(j,:)-key1.*Ag(i,:);\n",
        "        end\n",
        "    end\n",
        "end\n",
        "\n",
        "%solution is contained in the last column of augumented matrix\n",
        "disp(Ag(:,end))"
      ]
    }
  ],
  "metadata": {
    "kernelspec": {
      "display_name": "Octave",
      "language": "octave",
      "name": "octave"
    },
    "language_info": {
      "file_extension": ".m",
      "help_links": [
        {
          "text": "GNU Octave",
          "url": "https://www.gnu.org/software/octave/support.html"
        },
        {
          "text": "Octave Kernel",
          "url": "https://github.com/Calysto/octave_kernel"
        },
        {
          "text": "MetaKernel Magics",
          "url": "https://metakernel.readthedocs.io/en/latest/source/README.html"
        }
      ],
      "mimetype": "text/x-octave",
      "name": "octave",
      "version": "4.2.2"
    },
    "colab": {
      "name": "octave-gauss-jordan-elimination-4x4.ipynb",
      "provenance": [],
      "include_colab_link": true
    }
  },
  "nbformat": 4,
  "nbformat_minor": 5
}