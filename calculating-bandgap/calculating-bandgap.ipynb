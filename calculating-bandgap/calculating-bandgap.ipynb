{
  "nbformat": 4,
  "nbformat_minor": 0,
  "metadata": {
    "colab": {
      "name": "calculating-bandgap.ipynb",
      "provenance": [],
      "include_colab_link": true
    },
    "kernelspec": {
      "name": "python3",
      "display_name": "Python 3"
    },
    "language_info": {
      "name": "python"
    }
  },
  "cells": [
    {
      "cell_type": "markdown",
      "metadata": {
        "id": "view-in-github",
        "colab_type": "text"
      },
      "source": [
        "<a href=\"https://colab.research.google.com/github/python4phys1cs/physics-problems/blob/main/calculating-bandgap/calculating-bandgap.ipynb\" target=\"_parent\"><img src=\"https://colab.research.google.com/assets/colab-badge.svg\" alt=\"Open In Colab\"/></a>"
      ]
    },
    {
      "cell_type": "markdown",
      "source": [
        "# Calculating the bangap of material from transmittance data"
      ],
      "metadata": {
        "id": "bSjrD_Qhn7GU"
      }
    },
    {
      "cell_type": "markdown",
      "source": [
        "Importing necessary libraries and modules"
      ],
      "metadata": {
        "id": "uuNTc5qUn2Dr"
      }
    },
    {
      "cell_type": "code",
      "execution_count": 18,
      "metadata": {
        "id": "O9HRq-T3-_Lc"
      },
      "outputs": [],
      "source": [
        "import pandas as pd\n",
        "import numpy as np\n",
        "import matplotlib.pyplot as plt\n",
        "from scipy.signal import savgol_filter\n",
        "from sklearn.metrics import mean_squared_error"
      ]
    },
    {
      "cell_type": "markdown",
      "source": [
        "Reading Transmittance data to a data frame using read_csv module"
      ],
      "metadata": {
        "id": "bWVKQN2vF3tF"
      }
    },
    {
      "cell_type": "code",
      "source": [
        "data = \"https://raw.githubusercontent.com/python4phys1cs/physics-problems/main/calculating-bandgap/data/znse-data.csv\"\n",
        "\n",
        "df = pd.read_csv(data, sep=\",\")"
      ],
      "metadata": {
        "id": "Awq-39NLnvO1"
      },
      "execution_count": 19,
      "outputs": []
    },
    {
      "cell_type": "markdown",
      "source": [
        "Converting the Transmittance values from percentage to absolute values\n",
        "$$ T= \\frac {T\\%}{100}$$"
      ],
      "metadata": {
        "id": "lsPAl1C3F_VV"
      }
    },
    {
      "cell_type": "code",
      "source": [
        "#T = T%/100\n",
        "T = df[\"Transmittance\"]/100"
      ],
      "metadata": {
        "id": "L_hQD1RpFvfS"
      },
      "execution_count": 20,
      "outputs": []
    },
    {
      "cell_type": "markdown",
      "source": [
        "Converting Wavelength to meters\\\n",
        "**Conversion factor:** $ 1\\ m = 10^{-9}\\ nm $"
      ],
      "metadata": {
        "id": "X5NIogqSUQ7z"
      }
    },
    {
      "cell_type": "code",
      "source": [
        "wavelength = df['Wavelength']*1e-9"
      ],
      "metadata": {
        "id": "JG-um34CUUu5"
      },
      "execution_count": 21,
      "outputs": []
    },
    {
      "cell_type": "markdown",
      "source": [
        "Calculating the energy associated with wavelength of light"
      ],
      "metadata": {
        "id": "NPXCIYxyGQXr"
      }
    },
    {
      "cell_type": "code",
      "source": [
        "h = 6.626e-34 #planck's constant\n",
        "c = 3e8 #velocity of light\n",
        "eV = 1.602e-19 # 1 electron-volt\n",
        "\n",
        "Eg = h*c/(wavelength*eV)"
      ],
      "metadata": {
        "id": "dontTqybFzE1"
      },
      "execution_count": 22,
      "outputs": []
    },
    {
      "cell_type": "markdown",
      "source": [
        "Calculating molar absorption coefficient $ \\alpha $\n",
        "\n",
        "$$ \\alpha = - \\frac{ln(T)}{t} $$\n",
        "where $ t $ is the thickness of sample"
      ],
      "metadata": {
        "id": "b76-h-7fHBF5"
      }
    },
    {
      "cell_type": "code",
      "source": [
        "t = 2e-4 #thickness of sample in meter\n",
        "\n",
        "alpha = - np.log(T)/t"
      ],
      "metadata": {
        "id": "siLwazbiHX6k"
      },
      "execution_count": 23,
      "outputs": []
    },
    {
      "cell_type": "markdown",
      "source": [
        "Calculating $ (\\alpha h \\nu ) ^ {1/2} $\n"
      ],
      "metadata": {
        "id": "uDAeOaUxJtb7"
      }
    },
    {
      "cell_type": "code",
      "source": [
        "#setting power for direct or indirect semiconductor\n",
        "n=2\n",
        "\n",
        "#evaluating the values for Tauc Plot\n",
        "TP = (alpha*Eg)**n\n",
        "\n",
        "plt.plot(Eg,TP)\n",
        "plt.show()"
      ],
      "metadata": {
        "colab": {
          "base_uri": "https://localhost:8080/",
          "height": 275
        },
        "id": "Ud3rPchmKQss",
        "outputId": "0b21ba48-847f-45e2-efbf-3efcf1b2f05a"
      },
      "execution_count": 24,
      "outputs": [
        {
          "output_type": "display_data",
          "data": {
            "image/png": "[encoded data removed]",
            "text/plain": [
              "<Figure size 432x288 with 1 Axes>"
            ]
          },
          "metadata": {
            "needs_background": "light"
          }
        }
      ]
    },
    {
      "cell_type": "code",
      "source": [
        "#smoothening the data using Savitzky-Golay Filter\n",
        "sg = savgol_filter(TP, 9, 4)\n",
        "\n",
        "plt.plot(Eg, sg)\n",
        "plt.show()"
      ],
      "metadata": {
        "colab": {
          "base_uri": "https://localhost:8080/",
          "height": 275
        },
        "id": "CnGQkWF4WWkJ",
        "outputId": "9df9f10c-fb73-4bff-f82e-2a83577f2d9d"
      },
      "execution_count": 25,
      "outputs": [
        {
          "output_type": "display_data",
          "data": {
            "image/png": "[encoded data removed]",
            "text/plain": [
              "<Figure size 432x288 with 1 Axes>"
            ]
          },
          "metadata": {
            "needs_background": "light"
          }
        }
      ]
    },
    {
      "cell_type": "code",
      "source": [
        "#calculating the maximum value of Tauc plot for rescaling\n",
        "sgmax = max(sg)\n",
        "\n",
        "#rescaling the Tauc plot\n",
        "sgre = sg/sgmax"
      ],
      "metadata": {
        "id": "XpUcLFLjkUu8"
      },
      "execution_count": 26,
      "outputs": []
    },
    {
      "cell_type": "code",
      "source": [
        "#initiating arrays to store values\n",
        "sgpred = []\n",
        "slope = []\n",
        "intercept = []\n",
        "\n",
        "for i in range(len(Eg)):\n",
        "    #calculating slope and intercept of line for every 10 points\n",
        "    m, b = np.polyfit(Eg[i:i+10],sgre[i:i+10],1)\n",
        "    slope.append(m)\n",
        "    intercept.append(b)\n",
        "    #calculating the predicted value from the line parameters\n",
        "    sgpred.append(m*Eg[i]+b)"
      ],
      "metadata": {
        "colab": {
          "base_uri": "https://localhost:8080/"
        },
        "id": "HVXP0cOwWxKb",
        "outputId": "d7658658-a98a-4e33-f817-073a0bfcd18c"
      },
      "execution_count": 27,
      "outputs": [
        {
          "output_type": "stream",
          "name": "stderr",
          "text": [
            "/usr/local/lib/python3.7/dist-packages/IPython/core/interactiveshell.py:2882: RankWarning: Polyfit may be poorly conditioned\n",
            "  exec(code_obj, self.user_global_ns, self.user_ns)\n"
          ]
        }
      ]
    },
    {
      "cell_type": "code",
      "source": [
        "rmse = []\n",
        "\n",
        "#calculating the root mean square error between predicted and actual values\n",
        "for i in range(len(sg)):\n",
        "    mse = mean_squared_error(sgre, sgpred)\n",
        "    rmse.append(mse**0.5)"
      ],
      "metadata": {
        "id": "b7WJ1LPOcUkP"
      },
      "execution_count": 28,
      "outputs": []
    },
    {
      "cell_type": "code",
      "source": [
        "selseg = []\n",
        "\n",
        "#selecting only those segments for which rmse<0.75\n",
        "for i in range(len(slope)):\n",
        "    if(rmse[i]<0.75):\n",
        "        selseg.append(slope[i])\n",
        "    else:\n",
        "        selseg.append(0)"
      ],
      "metadata": {
        "id": "M0S4SdaBdGjF"
      },
      "execution_count": 29,
      "outputs": []
    },
    {
      "cell_type": "code",
      "source": [
        "#finding the maximum slope within the selected segments\n",
        "max_slope = max(selseg)\n",
        "#find the index for which slope is maximum\n",
        "max_slope_index = selseg.index(max_slope)"
      ],
      "metadata": {
        "id": "SIE4S8lteoDj"
      },
      "execution_count": 30,
      "outputs": []
    },
    {
      "cell_type": "code",
      "source": [
        "#calculating the bandgap of material\n",
        "bg = (max_slope*Eg[max_slope_index]-sgre[max_slope_index])/max_slope\n",
        "\n",
        "print(\"The band gap of material is:\", bg)"
      ],
      "metadata": {
        "colab": {
          "base_uri": "https://localhost:8080/"
        },
        "id": "VDz_hnAegGwL",
        "outputId": "0cb1c4df-cf32-4cdb-e532-ef5f13d95208"
      },
      "execution_count": 31,
      "outputs": [
        {
          "output_type": "stream",
          "name": "stdout",
          "text": [
            "The band gap of material is: 2.662258198872986\n"
          ]
        }
      ]
    }
  ]
}